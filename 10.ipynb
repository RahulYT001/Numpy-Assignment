{
 "cells": [
  {
   "cell_type": "markdown",
   "id": "ce1d2887-5b03-4b97-806c-0d2fa1558181",
   "metadata": {},
   "source": [
    "Create a NumPy array representing daily temperatures for a month. Calculate and display the weekly\n",
    "averages."
   ]
  },
  {
   "cell_type": "code",
   "execution_count": 2,
   "id": "40d7f2b3-2215-43dd-997d-2ffc6d3bb1cb",
   "metadata": {},
   "outputs": [],
   "source": [
    "import numpy as np"
   ]
  },
  {
   "cell_type": "code",
   "execution_count": 3,
   "id": "bf0af459-fbd2-44cd-a4a1-2c2eafa929cf",
   "metadata": {},
   "outputs": [],
   "source": [
    "daily_temperatures = np.random.randint(15, 36, 28)"
   ]
  },
  {
   "cell_type": "code",
   "execution_count": 4,
   "id": "e1efe1a6-eba1-4718-b847-d13a23d4ea83",
   "metadata": {},
   "outputs": [],
   "source": [
    "weeks = daily_temperatures.reshape(4, 7)\n"
   ]
  },
  {
   "cell_type": "code",
   "execution_count": 5,
   "id": "b9b1b9fd-d780-499a-91ff-4648340cac1d",
   "metadata": {},
   "outputs": [
    {
     "data": {
      "text/plain": [
       "array([23.28571429, 23.57142857, 27.42857143, 27.57142857])"
      ]
     },
     "execution_count": 5,
     "metadata": {},
     "output_type": "execute_result"
    }
   ],
   "source": [
    "weekly_averages = weeks.mean(axis=1)\n",
    "weekly_averages"
   ]
  },
  {
   "cell_type": "code",
   "execution_count": null,
   "id": "13d50245-8996-4b64-bb0e-f6e595f4375b",
   "metadata": {},
   "outputs": [],
   "source": []
  },
  {
   "cell_type": "code",
   "execution_count": null,
   "id": "d623ec49-d1f7-4916-af58-164c641070ea",
   "metadata": {},
   "outputs": [],
   "source": []
  },
  {
   "cell_type": "code",
   "execution_count": null,
   "id": "e392a061-3b88-4f57-ac9e-f216290265f7",
   "metadata": {},
   "outputs": [],
   "source": []
  }
 ],
 "metadata": {
  "kernelspec": {
   "display_name": "Python 3 (ipykernel)",
   "language": "python",
   "name": "python3"
  },
  "language_info": {
   "codemirror_mode": {
    "name": "ipython",
    "version": 3
   },
   "file_extension": ".py",
   "mimetype": "text/x-python",
   "name": "python",
   "nbconvert_exporter": "python",
   "pygments_lexer": "ipython3",
   "version": "3.10.8"
  }
 },
 "nbformat": 4,
 "nbformat_minor": 5
}
