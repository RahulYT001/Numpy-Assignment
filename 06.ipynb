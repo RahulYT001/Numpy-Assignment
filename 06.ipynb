{
 "cells": [
  {
   "cell_type": "markdown",
   "id": "8965bbaf-d49f-4a91-82ea-282496730526",
   "metadata": {},
   "source": [
    "Generate a NumPy array of words. Insert a space between each character of every word in the array."
   ]
  },
  {
   "cell_type": "code",
   "execution_count": 1,
   "id": "375b1181-60e7-4620-bc09-ddd0541fb2c7",
   "metadata": {},
   "outputs": [],
   "source": [
    "import numpy as np"
   ]
  },
  {
   "cell_type": "code",
   "execution_count": 3,
   "id": "cacbcb48-6f81-4c20-976c-ca93311ba48f",
   "metadata": {},
   "outputs": [
    {
     "data": {
      "text/plain": [
       "array(['How', 'are', 'you'], dtype='<U3')"
      ]
     },
     "execution_count": 3,
     "metadata": {},
     "output_type": "execute_result"
    }
   ],
   "source": [
    "arr = np.array([\"How\", \"are\", \"you\"])\n",
    "arr"
   ]
  },
  {
   "cell_type": "code",
   "execution_count": 5,
   "id": "9f7e53cd-fbff-48b2-8116-832dcb728a1a",
   "metadata": {},
   "outputs": [
    {
     "data": {
      "text/plain": [
       "array(['H o w', 'a r e', 'y o u'], dtype='<U5')"
      ]
     },
     "execution_count": 5,
     "metadata": {},
     "output_type": "execute_result"
    }
   ],
   "source": [
    "space = np.char.join(\" \", arr)\n",
    "space"
   ]
  },
  {
   "cell_type": "code",
   "execution_count": null,
   "id": "2d40b3d4-84b3-4242-88f5-2c9f4b8f50bf",
   "metadata": {},
   "outputs": [],
   "source": []
  }
 ],
 "metadata": {
  "kernelspec": {
   "display_name": "Python 3 (ipykernel)",
   "language": "python",
   "name": "python3"
  },
  "language_info": {
   "codemirror_mode": {
    "name": "ipython",
    "version": 3
   },
   "file_extension": ".py",
   "mimetype": "text/x-python",
   "name": "python",
   "nbconvert_exporter": "python",
   "pygments_lexer": "ipython3",
   "version": "3.10.8"
  }
 },
 "nbformat": 4,
 "nbformat_minor": 5
}
