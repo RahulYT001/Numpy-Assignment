{
 "cells": [
  {
   "cell_type": "code",
   "execution_count": 1,
   "id": "b034719a-3033-469b-8f26-924345a954a8",
   "metadata": {},
   "outputs": [],
   "source": [
    "import numpy as np"
   ]
  },
  {
   "cell_type": "code",
   "execution_count": 3,
   "id": "75dabece-75f0-4822-8fa6-379417a77d6f",
   "metadata": {},
   "outputs": [
    {
     "data": {
      "text/plain": [
       "array([[0.66094284, 0.50426607, 0.7823843 , 0.15658561],\n",
       "       [0.11974869, 0.28981663, 0.1300452 , 0.89137326],\n",
       "       [0.95885839, 0.03495567, 0.33712357, 0.53525695],\n",
       "       [0.21395225, 0.39641098, 0.19052349, 0.4813062 ]])"
      ]
     },
     "execution_count": 3,
     "metadata": {},
     "output_type": "execute_result"
    }
   ],
   "source": [
    "arr = np.random.rand(4,4)\n",
    "arr"
   ]
  },
  {
   "cell_type": "code",
   "execution_count": 7,
   "id": "b73ce07b-06bb-4658-ac5f-e21ea54d3438",
   "metadata": {},
   "outputs": [
    {
     "data": {
      "text/plain": [
       "array([[0.        , 0.        , 0.        , 0.        , 0.        ,\n",
       "        0.        ],\n",
       "       [0.        , 0.66094284, 0.50426607, 0.7823843 , 0.15658561,\n",
       "        0.        ],\n",
       "       [0.        , 0.11974869, 0.28981663, 0.1300452 , 0.89137326,\n",
       "        0.        ],\n",
       "       [0.        , 0.95885839, 0.03495567, 0.33712357, 0.53525695,\n",
       "        0.        ],\n",
       "       [0.        , 0.21395225, 0.39641098, 0.19052349, 0.4813062 ,\n",
       "        0.        ],\n",
       "       [0.        , 0.        , 0.        , 0.        , 0.        ,\n",
       "        0.        ]])"
      ]
     },
     "execution_count": 7,
     "metadata": {},
     "output_type": "execute_result"
    }
   ],
   "source": [
    "new = np.pad(arr, constant_values = 0, pad_width = 1)\n",
    "new"
   ]
  },
  {
   "cell_type": "code",
   "execution_count": null,
   "id": "5488aba2-3291-44d8-9147-e711359078ef",
   "metadata": {},
   "outputs": [],
   "source": []
  }
 ],
 "metadata": {
  "kernelspec": {
   "display_name": "Python 3 (ipykernel)",
   "language": "python",
   "name": "python3"
  },
  "language_info": {
   "codemirror_mode": {
    "name": "ipython",
    "version": 3
   },
   "file_extension": ".py",
   "mimetype": "text/x-python",
   "name": "python",
   "nbconvert_exporter": "python",
   "pygments_lexer": "ipython3",
   "version": "3.10.8"
  }
 },
 "nbformat": 4,
 "nbformat_minor": 5
}
