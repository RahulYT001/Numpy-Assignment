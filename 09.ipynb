{
 "cells": [
  {
   "cell_type": "markdown",
   "id": "b2e3a9b5-5fdc-4e4d-a0fb-e2f1df74a84c",
   "metadata": {},
   "source": [
    "Generate a NumPy array of 100 random integers between 0 and 1000. Find and display all prime numbers in\n",
    "this array."
   ]
  },
  {
   "cell_type": "code",
   "execution_count": 7,
   "id": "590e7ab0-2e2f-4ca7-9598-c6a3f2b3afcd",
   "metadata": {},
   "outputs": [],
   "source": [
    "import numpy as np"
   ]
  },
  {
   "cell_type": "code",
   "execution_count": 8,
   "id": "72caa7ea-65dd-4d48-81d7-7be5fc12910e",
   "metadata": {},
   "outputs": [
    {
     "data": {
      "text/plain": [
       "array([576, 677, 864, 967, 110, 841, 225, 888, 649, 974, 448,  84, 200,\n",
       "       754, 741, 164, 678, 543, 301, 473, 152,  62, 631, 319, 764, 429,\n",
       "       669, 690, 724, 457,  13,  52, 376, 478, 951,  52, 608, 100, 197,\n",
       "       949, 900, 740, 405, 439, 429, 386, 705, 546, 153, 552,  93, 320,\n",
       "       556, 844, 905,  84, 154, 600, 381, 344, 333,  61, 979, 216, 628,\n",
       "       287, 821,  20, 312, 139, 118, 658,  15, 302, 312, 415, 429, 264,\n",
       "       671, 746, 343, 203, 743, 511, 227,  12, 844, 245, 975, 621,  57,\n",
       "       972, 654, 256, 489, 389, 749, 809,  42, 314])"
      ]
     },
     "execution_count": 8,
     "metadata": {},
     "output_type": "execute_result"
    }
   ],
   "source": [
    "arr = np.random.randint(0,1000, 100)\n",
    "arr\n"
   ]
  },
  {
   "cell_type": "code",
   "execution_count": 13,
   "id": "9f357fa3-f435-4a2d-8055-209af0ca90e8",
   "metadata": {},
   "outputs": [],
   "source": [
    "def check_prime(num):\n",
    "    if num<2:\n",
    "        return False\n",
    "    elif num == 2:\n",
    "        True\n",
    "    for i in range(2,num):\n",
    "        if num%i == 0:\n",
    "            return False\n",
    "    return True"
   ]
  },
  {
   "cell_type": "code",
   "execution_count": 16,
   "id": "156ac6b9-4f71-4c56-9f4a-6f0d20873e7d",
   "metadata": {},
   "outputs": [],
   "source": [
    "prime_number_array = np.array([])\n",
    "for i in arr:\n",
    "    if check_prime(i) == True:\n",
    "        prime_number_array = np.append(arr, i)\n",
    "    else:\n",
    "        pass"
   ]
  },
  {
   "cell_type": "code",
   "execution_count": 17,
   "id": "32241ebf-b357-4336-9192-418395bf2875",
   "metadata": {},
   "outputs": [
    {
     "data": {
      "text/plain": [
       "array([576, 677, 864, 967, 110, 841, 225, 888, 649, 974, 448,  84, 200,\n",
       "       754, 741, 164, 678, 543, 301, 473, 152,  62, 631, 319, 764, 429,\n",
       "       669, 690, 724, 457,  13,  52, 376, 478, 951,  52, 608, 100, 197,\n",
       "       949, 900, 740, 405, 439, 429, 386, 705, 546, 153, 552,  93, 320,\n",
       "       556, 844, 905,  84, 154, 600, 381, 344, 333,  61, 979, 216, 628,\n",
       "       287, 821,  20, 312, 139, 118, 658,  15, 302, 312, 415, 429, 264,\n",
       "       671, 746, 343, 203, 743, 511, 227,  12, 844, 245, 975, 621,  57,\n",
       "       972, 654, 256, 489, 389, 749, 809,  42, 314, 677, 967, 631, 457,\n",
       "        13, 197, 439,  61, 821, 139, 743, 227, 389, 809, 809])"
      ]
     },
     "execution_count": 17,
     "metadata": {},
     "output_type": "execute_result"
    }
   ],
   "source": [
    "prime_number_array\n"
   ]
  },
  {
   "cell_type": "code",
   "execution_count": null,
   "id": "66b396b0-967e-49ae-a88f-28304548641b",
   "metadata": {},
   "outputs": [],
   "source": []
  }
 ],
 "metadata": {
  "kernelspec": {
   "display_name": "Python 3 (ipykernel)",
   "language": "python",
   "name": "python3"
  },
  "language_info": {
   "codemirror_mode": {
    "name": "ipython",
    "version": 3
   },
   "file_extension": ".py",
   "mimetype": "text/x-python",
   "name": "python",
   "nbconvert_exporter": "python",
   "pygments_lexer": "ipython3",
   "version": "3.10.8"
  }
 },
 "nbformat": 4,
 "nbformat_minor": 5
}
